{
 "cells": [
  {
   "cell_type": "markdown",
   "metadata": {},
   "source": [
    "# MongoDB - Lab\n",
    "\n",
    "## Introduction\n",
    "\n",
    "In this lesson, we'll get some hands-on experience with MongoDB!\n",
    "\n",
    "## Objectives\n",
    "You will be able to: \n",
    "\n",
    "- Create a MongoDB database   \n",
    "- Insert data into a MongoDB database   \n",
    "- Read data from a MongoDB database   \n",
    "- Update data in a MongoDB database   \n",
    "\n",
    "## Getting Started\n",
    "\n",
    "To begin this lab, make sure that you start up the mongoDB server in your terminal first!  \n",
    "**You must do this lab locally on your computer.**\n",
    "\n",
    "\n",
    "## Connecting to the MongoDB Database\n",
    "\n",
    "In the cell below, import the appropriate library and connect to the mongoDB server. Create a new database called `'lab_db'`."
   ]
  },
  {
   "cell_type": "code",
   "execution_count": 4,
   "metadata": {},
   "outputs": [],
   "source": [
    "import pymongo\n",
    "myClient = pymongo.MongoClient('mongodb://127.0.0.1:27017')\n",
    "lab_db = myClient['lab_db']"
   ]
  },
  {
   "cell_type": "markdown",
   "metadata": {},
   "source": [
    "## Creating a Collection\n",
    "\n",
    "Now, create a collection called `'lab_collection'` inside `'lab_db'`."
   ]
  },
  {
   "cell_type": "code",
   "execution_count": 5,
   "metadata": {},
   "outputs": [],
   "source": [
    "mycollection = lab_db['lab_collection']"
   ]
  },
  {
   "cell_type": "markdown",
   "metadata": {},
   "source": [
    "## Adding Some Data\n",
    "\n",
    "Now, we're going to add some example records into our database. In the cells below, create dictionary representations of the following customer records:\n",
    "\n",
    "\n",
    "|     Name     |            Email           |  Mailing_Address  | Balance |                         Notes                         |\n",
    "|:------------:|:--------------------------:|:-----------------:|:-------:|:-----------------------------------------------------:|\n",
    "|  John Smith  |    j.smith@thesmiths.com   | 123 mulberry lane |   0.0   |    Called technical support, issue not yet resolved   |\n",
    "|  Jane Smith  |  jane_smith@thesmiths.com  |         Null          |  25.00  |                   Null                                    |\n",
    "|  Adam Enbar  | adam@theflatironschool.com |    11 Broadway    |  14.99  |           Set up on recurring billing cycle           |\n",
    "| Avi Flombaum |  avi@theflatironschool.com |    11 Broadway    |   0.0   |                   Null                                    |\n",
    "|   Steven S.  |     steven.s@gmail.net     |         Null          |  -20.23 | Refunded for overpayment due to price match guarantee |\n",
    "\n",
    "\n",
    "Your first challenge is to take all of the data in the table above and create the corresponding documents and add then to our mongo database. Note that fields that contain 'Null' should not be included in the document (recall that since mongo is schema-less, each document can be different). \n",
    "\n",
    "Create the documents from the table listed above, and then use `insert_many()` to insert them into the collection."
   ]
  },
  {
   "cell_type": "code",
   "execution_count": 6,
   "metadata": {},
   "outputs": [],
   "source": [
    "customer_1 = {'name' : 'John Smith', 'email' : 'j.smith@thesmiths.com', 'maling_Address' : '123 mulberry lane', 'balance' : 0.0, 'notes' : 'Called technical support, isuue not yet resolved' }\n",
    "customer_2 = {'name' : 'Jane Smith', 'email' : 'jane_smith@thesmiths.com', 'balance' : 25.00}\n",
    "customer_3 = {'name' : 'Adam Enbar', 'email' : 'adam@theflatironschool', 'maling_Address' : '11 Broadway', 'balance' : 14.99, 'notes' : 'Set up on recurring billing cycle' }\n",
    "customer_4 = {'name' : 'Avi Flombaum', 'email' : 'avi@theflatironschool', 'maling_Address' : '11 Broadway', 'balance' : 0.0}\n",
    "customer_5 = {'name' : 'Steven S.', 'email' : 'steven.s@gmail.com', 'balance' : -20.23, 'notes' : 'Refunded for overpayment due to price match guarantee' }\n",
    "\n",
    "all_records = [customer_1, customer_2, customer_3, customer_4, customer_5]\n",
    "\n",
    "insertion_results = mycollection.insert_many(all_records)"
   ]
  },
  {
   "cell_type": "markdown",
   "metadata": {},
   "source": [
    "Now, access the appropriate attribute from the results object returned from the insertion to see the unique IDs for each record inserted, so that we can confirm each were inserted correctly. "
   ]
  },
  {
   "cell_type": "code",
   "execution_count": 7,
   "metadata": {},
   "outputs": [
    {
     "data": {
      "text/plain": [
       "[ObjectId('63706ae39b3e904a26c87053'),\n",
       " ObjectId('63706ae39b3e904a26c87054'),\n",
       " ObjectId('63706ae39b3e904a26c87055'),\n",
       " ObjectId('63706ae39b3e904a26c87056'),\n",
       " ObjectId('63706ae39b3e904a26c87057')]"
      ]
     },
     "execution_count": 7,
     "metadata": {},
     "output_type": "execute_result"
    }
   ],
   "source": [
    "insertion_results.inserted_ids"
   ]
  },
  {
   "cell_type": "markdown",
   "metadata": {},
   "source": [
    "## Querying and Filtering\n",
    "\n",
    "In the cell below, return the name and email address for every customer record. Then, print every item from the query to show that it worked correctly. "
   ]
  },
  {
   "cell_type": "code",
   "execution_count": 8,
   "metadata": {},
   "outputs": [
    {
     "name": "stdout",
     "output_type": "stream",
     "text": [
      "{'_id': ObjectId('636dc54e8c8268119f1ccaee'), 'name': 'John Smith', 'email': 'j.smith@thesmiths.com'}\n",
      "{'_id': ObjectId('636dc54e8c8268119f1ccaef'), 'name': 'Jane Smith', 'email': 'jane_smith@thesmiths.com'}\n",
      "{'_id': ObjectId('636dc54e8c8268119f1ccaf0'), 'name': 'Adam Enbar', 'email': 'adam@theflatironschool'}\n",
      "{'_id': ObjectId('636dc54e8c8268119f1ccaf1'), 'name': 'Avi Flombaum', 'email': 'avi@theflatironschool'}\n",
      "{'_id': ObjectId('636dc54e8c8268119f1ccaf2'), 'name': 'Steven S.', 'email': 'steven.s@gmail.com'}\n",
      "{'_id': ObjectId('63706ae39b3e904a26c87053'), 'name': 'John Smith', 'email': 'j.smith@thesmiths.com'}\n",
      "{'_id': ObjectId('63706ae39b3e904a26c87054'), 'name': 'Jane Smith', 'email': 'jane_smith@thesmiths.com'}\n",
      "{'_id': ObjectId('63706ae39b3e904a26c87055'), 'name': 'Adam Enbar', 'email': 'adam@theflatironschool'}\n",
      "{'_id': ObjectId('63706ae39b3e904a26c87056'), 'name': 'Avi Flombaum', 'email': 'avi@theflatironschool'}\n",
      "{'_id': ObjectId('63706ae39b3e904a26c87057'), 'name': 'Steven S.', 'email': 'steven.s@gmail.com'}\n"
     ]
    }
   ],
   "source": [
    "query_1 = mycollection.find({}, {'name' : 1, 'email' : 1})\n",
    "for x in query_1:\n",
    "    print (x)"
   ]
  },
  {
   "cell_type": "markdown",
   "metadata": {},
   "source": [
    "Great! Now, let's write a query that gets an individual record based on a stored key-value pair a document contains. \n",
    "\n",
    "In the cell below, write a query to get the record for `'John Smith'` by using his name. Then, print the results of the query to demonstrate that it worked correctly.  "
   ]
  },
  {
   "cell_type": "code",
   "execution_count": 9,
   "metadata": {},
   "outputs": [
    {
     "name": "stdout",
     "output_type": "stream",
     "text": [
      "{'_id': ObjectId('636dc54e8c8268119f1ccaee'), 'name': 'John Smith', 'email': 'j.smith@thesmiths.com', 'maling_Address': '123 mulberry lane', 'balance': 0.0, 'notes': 'Called technical support, isuue not yet resolved', 'address': '367 55th St., apt. 2A'}\n",
      "{'_id': ObjectId('63706ae39b3e904a26c87053'), 'name': 'John Smith', 'email': 'j.smith@thesmiths.com', 'maling_Address': '123 mulberry lane', 'balance': 0.0, 'notes': 'Called technical support, isuue not yet resolved'}\n"
     ]
    }
   ],
   "source": [
    "query_2 = mycollection.find({'name' : 'John Smith'})\n",
    "for item in query_2:\n",
    "    print(item)\n"
   ]
  },
  {
   "cell_type": "markdown",
   "metadata": {},
   "source": [
    "Great! Now, write a query to get the names, email addresses, and balances for customers that have a balance greater than 0. Use a modifier to do this. \n",
    "\n",
    "**_HINT_**: In the query below, you'll be passing in two separate dictionaries. The first one defines the logic of the query, while the second tells which fields we want returned. "
   ]
  },
  {
   "cell_type": "code",
   "execution_count": 10,
   "metadata": {},
   "outputs": [
    {
     "name": "stdout",
     "output_type": "stream",
     "text": [
      "{'name': 'Jane Smith', 'balance': 25.0}\n",
      "{'name': 'Adam Enbar', 'balance': 14.99}\n",
      "{'name': 'Jane Smith', 'balance': 25.0}\n",
      "{'name': 'Adam Enbar', 'balance': 14.99}\n"
     ]
    }
   ],
   "source": [
    "query_3 = mycollection.find({'balance' : {'$gt': 0}}, {'_id': 0, 'name': 1, 'emailAddress': 1, 'balance': 1})\n",
    "for x in query_3:\n",
    "    print (x)"
   ]
  },
  {
   "cell_type": "markdown",
   "metadata": {},
   "source": [
    "## Updating a Record\n",
    "\n",
    "Now, let's update some records. In the cell below. set the mailing address for `'John Smith'` to `'367 55th St., apt 2A'`."
   ]
  },
  {
   "cell_type": "code",
   "execution_count": 11,
   "metadata": {},
   "outputs": [
    {
     "name": "stdout",
     "output_type": "stream",
     "text": [
      "{'_id': ObjectId('636dc54e8c8268119f1ccaf1'), 'name': 'Avi Flombaum', 'email': 'avi@theflatironschool', 'maling_Address': '11 Broadway', 'balance': 0.0, 'religion': 'judiasm'}\n",
      "{'_id': ObjectId('63706ae39b3e904a26c87056'), 'name': 'Avi Flombaum', 'email': 'avi@theflatironschool', 'maling_Address': '11 Broadway', 'balance': 0.0}\n"
     ]
    }
   ],
   "source": [
    "mycollection.update_one({'name' : 'Avi Flombaum'}, {'$set': {'religion' : 'judiasm'}})\n",
    "qq = mycollection.find({'name' : 'Avi Flombaum'})\n",
    "for r in qq:\n",
    "    print(r)"
   ]
  },
  {
   "cell_type": "code",
   "execution_count": 12,
   "metadata": {},
   "outputs": [],
   "source": [
    "record_to_update_1 = {'name': 'John Smith'}\n",
    "update_1 = {'$set': {'address': '367 55th St., apt. 2A'}}\n",
    "mycollection.update_one(record_to_update_1, update_1);\n"
   ]
  },
  {
   "cell_type": "markdown",
   "metadata": {},
   "source": [
    "Now, write a query to check that the update worked for this document in the cell below:  "
   ]
  },
  {
   "cell_type": "code",
   "execution_count": 13,
   "metadata": {},
   "outputs": [
    {
     "name": "stdout",
     "output_type": "stream",
     "text": [
      "{'_id': ObjectId('636dc54e8c8268119f1ccaee'), 'address': '367 55th St., apt. 2A'}\n",
      "{'_id': ObjectId('63706ae39b3e904a26c87053')}\n"
     ]
    }
   ],
   "source": [
    "query_4 = mycollection.find({'name': 'John Smith'}, {'address': 1})\n",
    "for item in query_4:\n",
    "    print(item)\n"
   ]
  },
  {
   "cell_type": "markdown",
   "metadata": {},
   "source": [
    "Now, let's assume that we want to add birthdays for each customer record. Consider the following table:\n",
    "\n",
    "|     Name     |  Birthday  |\n",
    "|:------------:|:----------:|\n",
    "|  John Smith  | 02/20/1986 |\n",
    "|  Jane Smith  | 07/07/1983 |\n",
    "|  Adam Enbar  | 12/02/1982 |\n",
    "| Avi Flombaum | 04/17/1983 |\n",
    "|   Steven S.  | 08/30/1991 |\n",
    "\n",
    "We want to add birthdays for each person, but we want to do so in a way where we don't have to do the same repetitive task over and over again. This seems like a good opportunity to write a function to handle some of the logic for us!\n",
    "\n",
    "In the cell below:\n",
    "\n",
    "* Store the names in the `names_list` variable as a list.\n",
    "* Store the birthdays in the `birthdays_list` variable as a list.\n",
    "* Write a function that takes in the two different lists, and updates each record by adding in the appropriate key-value pair containing that user's birthday.\n",
    "\n",
    "**_Hint:_** There are several ways that you could write this, depending on whether you want to use the `update_one()` method or the `update_many()` method. See if you can figure out both approaches!"
   ]
  },
  {
   "cell_type": "code",
   "execution_count": 47,
   "metadata": {},
   "outputs": [
    {
     "name": "stdout",
     "output_type": "stream",
     "text": [
      "{'name': 'John Smith', 'birthday': '02/20/1986'}\n",
      "{'name': 'Jane Smith', 'birthday': '07/07/1983'}\n",
      "{'name': 'Adam Enbar', 'birthday': '12/02/1982'}\n",
      "{'name': 'Avi Flombaum', 'birthday': '04/17/1983'}\n",
      "{'name': 'Steven S.', 'birthday': '08/30/1991'}\n"
     ]
    }
   ],
   "source": [
    "names_list = ['John Smith', 'Jane Smith', 'Adam Enbar', 'Avi Flombaum', 'Steven S.']\n",
    "birthdays_list = ['02/20/1986', '07/07/1983', '12/02/1982', '04/17/1983', '08/30/1991']\n",
    "\n",
    "def update_birthdays(names, birthdays):\n",
    "    return list(zip(names, birthdays))\n",
    "\n",
    "name_bd_list = update_birthdays(names_list, birthdays_list)\n",
    "\n",
    "for x in name_bd_list:\n",
    "    print({'name': x[0], 'birthday': x[1]})\n",
    "    "
   ]
  },
  {
   "cell_type": "code",
   "execution_count": 48,
   "metadata": {},
   "outputs": [],
   "source": [
    "names_list = ['John Smith', 'Jane Smith', 'Adam Enbar', 'Avi Flombaum', 'Steven S.']\n",
    "birthdays_list = ['02/20/1986', '07/07/1983', '12/02/1982', '04/17/1983', '08/30/1991']\n",
    "\n",
    "# def update_birthdays(names, birthdays):\n",
    "#     return dict(zip(names, birthdays))\n",
    "\n",
    "# name_bd_list = update_birthdays(names_list, birthdays_list)\n",
    "\n",
    "for x in name_bd_list:\n",
    "    mycollection.update_one({'name': x[0]}, {'$set':{'birthday': x[1]}})"
   ]
  },
  {
   "cell_type": "markdown",
   "metadata": {},
   "source": [
    "Now, write a query to check your work and see that the birthdays were added correctly."
   ]
  },
  {
   "cell_type": "code",
   "execution_count": 52,
   "metadata": {},
   "outputs": [
    {
     "name": "stdout",
     "output_type": "stream",
     "text": [
      "{'name': 'John Smith', 'birthday': '02/20/1986'}\n",
      "{'name': 'Jane Smith', 'birthday': '07/07/1983'}\n",
      "{'name': 'Adam Enbar', 'birthday': '12/02/1982'}\n",
      "{'name': 'Avi Flombaum', 'birthday': '04/17/1983'}\n",
      "{'name': 'Steven S.', 'birthday': '08/30/1991'}\n",
      "{'name': 'John Smith'}\n",
      "{'name': 'Jane Smith'}\n",
      "{'name': 'Adam Enbar'}\n",
      "{'name': 'Avi Flombaum'}\n",
      "{'name': 'Steven S.'}\n"
     ]
    }
   ],
   "source": [
    "query_5 = mycollection.find({}, {'_id': 0, 'name': 1, 'birthday': 1})\n",
    "for x in query_5:\n",
    "    print(x)"
   ]
  },
  {
   "cell_type": "markdown",
   "metadata": {},
   "source": [
    "Great! It looks like the birthdays have been successfully added to every record correctly!\n",
    "\n",
    "## Summary\n",
    "\n",
    "In this lesson, we got some hands-on practice working with MongoDB!"
   ]
  }
 ],
 "metadata": {
  "kernelspec": {
   "display_name": "Python 3",
   "language": "python",
   "name": "python3"
  },
  "language_info": {
   "codemirror_mode": {
    "name": "ipython",
    "version": 3
   },
   "file_extension": ".py",
   "mimetype": "text/x-python",
   "name": "python",
   "nbconvert_exporter": "python",
   "pygments_lexer": "ipython3",
   "version": "3.8.5"
  }
 },
 "nbformat": 4,
 "nbformat_minor": 2
}
